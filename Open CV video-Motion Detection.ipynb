{
 "cells": [
  {
   "cell_type": "code",
   "execution_count": 2,
   "metadata": {},
   "outputs": [],
   "source": [
    "import cv2,time"
   ]
  },
  {
   "cell_type": "code",
   "execution_count": 8,
   "metadata": {},
   "outputs": [],
   "source": [
    "video=cv2.VideoCapture(0)\n",
    "first_frame=None\n",
    "\n",
    "while True:\n",
    "    \n",
    "    check,frame=video.read()\n",
    "\n",
    "    gre=cv2.cvtColor(frame,cv2.COLOR_BGR2GRAY)\n",
    "    gre2=cv2.GaussianBlur(gre,(21,21),0)\n",
    "    if first_frame is None:\n",
    "        first_frame=gre\n",
    "        continue\n",
    "    \n",
    "    del_frame=cv2.absdiff(gre2,first_frame)\n",
    "\n",
    "    \n",
    "    thresh_delta=cv2.threshold(del_frame,30,255,cv2.THRESH_BINARY)[1]\n",
    "    \n",
    "    thresh_delta=cv2.dilate(thresh_delta,None,iterations=2)\n",
    "    \n",
    "    \n",
    "    (cnts,_)=cv2.findContours(thresh_delta.copy(),cv2.RETR_EXTERNAL,cv2.CHAIN_APPROX_SIMPLE)\n",
    "    for contour in cnts:\n",
    "        if cv2.contourArea(contour) < 1000:\n",
    "            continue\n",
    "        (x,y,w,h)=cv2.boundingRect(contour)\n",
    "        cv2.rectangle(frame,(x,y),(x+w,y+h),(0,255,0),3)\n",
    "    \n",
    "    \n",
    "    \n",
    "    cv2.imshow('Capturing gray',gre)\n",
    "    cv2.imshow('Capturing',del_frame)\n",
    "    cv2.imshow('Threshold_frame',thresh_delta)\n",
    "    cv2.imshow(\"Colour Frame\",frame)\n",
    "    \n",
    "\n",
    "    key=cv2.waitKey(40)\n",
    "    \n",
    "    if key==ord('q'):\n",
    "        break\n",
    "# print(a)\n",
    "video.release()\n",
    "cv2.destroyAllWindows()"
   ]
  },
  {
   "cell_type": "code",
   "execution_count": 26,
   "metadata": {},
   "outputs": [],
   "source": [
    "# for i in fr:\n",
    "#     cv2.imshow('Image',i)\n",
    "#     cv2.waitKey(150)\n",
    "# cv2.destroyAllWindows()"
   ]
  },
  {
   "cell_type": "code",
   "execution_count": null,
   "metadata": {},
   "outputs": [],
   "source": []
  }
 ],
 "metadata": {
  "kernelspec": {
   "display_name": "Python 3",
   "language": "python",
   "name": "python3"
  },
  "language_info": {
   "codemirror_mode": {
    "name": "ipython",
    "version": 3
   },
   "file_extension": ".py",
   "mimetype": "text/x-python",
   "name": "python",
   "nbconvert_exporter": "python",
   "pygments_lexer": "ipython3",
   "version": "3.7.1"
  }
 },
 "nbformat": 4,
 "nbformat_minor": 2
}
